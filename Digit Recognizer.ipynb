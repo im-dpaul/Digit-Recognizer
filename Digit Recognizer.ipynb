{
 "cells": [
  {
   "cell_type": "markdown",
   "metadata": {},
   "source": [
    "# <font color='Yellow'>Importing Libraries</font>"
   ]
  },
  {
   "cell_type": "code",
   "execution_count": 1,
   "metadata": {
    "_cell_guid": "b1076dfc-b9ad-4769-8c92-a6c4dae69d19",
    "_uuid": "8f2839f25d086af736a60e9eeb907d3b93b6e0e5",
    "execution": {
     "iopub.execute_input": "2022-12-17T13:44:42.467647Z",
     "iopub.status.busy": "2022-12-17T13:44:42.466907Z",
     "iopub.status.idle": "2022-12-17T13:44:44.942407Z",
     "shell.execute_reply": "2022-12-17T13:44:44.941174Z",
     "shell.execute_reply.started": "2022-12-17T13:44:42.467572Z"
    }
   },
   "outputs": [],
   "source": [
    "import os\n",
    "import warnings\n",
    "import numpy as np \n",
    "import pandas as pd \n",
    "import matplotlib.pyplot as plt\n",
    "from keras.preprocessing.image import ImageDataGenerator\n",
    "from sklearn.neighbors import KNeighborsClassifier\n",
    "from tqdm import tqdm_notebook"
   ]
  },
  {
   "cell_type": "code",
   "execution_count": 2,
   "metadata": {},
   "outputs": [],
   "source": [
    "warnings.filterwarnings('ignore')"
   ]
  },
  {
   "cell_type": "markdown",
   "metadata": {},
   "source": [
    "# <font color='Yellow'>Loading Data</font>"
   ]
  },
  {
   "cell_type": "markdown",
   "metadata": {},
   "source": [
    "### <font color='purple'>for Kaggle Notebook</font>"
   ]
  },
  {
   "cell_type": "markdown",
   "metadata": {},
   "source": [
    "for dirname, _, filenames in os.walk('/kaggle/input'):\n",
    "\n",
    "    for filename in filenames:\n",
    "        print(os.path.join(dirname, filename))\n",
    "        \n",
    "        \n",
    "train = pd.read_csv('/kaggle/input/digit-recognizer/train.csv')\n",
    "\n",
    "test = pd.read_csv('/kaggle/input/digit-recognizer/test.csv')"
   ]
  },
  {
   "cell_type": "markdown",
   "metadata": {},
   "source": [
    "### <font color='purple'>for Jupyter Notebook</font>"
   ]
  },
  {
   "cell_type": "code",
   "execution_count": 3,
   "metadata": {
    "execution": {
     "iopub.execute_input": "2022-12-17T13:44:44.948647Z",
     "iopub.status.busy": "2022-12-17T13:44:44.948309Z",
     "iopub.status.idle": "2022-12-17T13:44:49.048010Z",
     "shell.execute_reply": "2022-12-17T13:44:49.046960Z",
     "shell.execute_reply.started": "2022-12-17T13:44:44.948616Z"
    }
   },
   "outputs": [],
   "source": [
    "train = pd.read_csv('train.csv')\n",
    "test = pd.read_csv('test.csv')"
   ]
  },
  {
   "cell_type": "code",
   "execution_count": 4,
   "metadata": {
    "execution": {
     "iopub.execute_input": "2022-12-17T13:44:49.050114Z",
     "iopub.status.busy": "2022-12-17T13:44:49.049545Z",
     "iopub.status.idle": "2022-12-17T13:44:49.072394Z",
     "shell.execute_reply": "2022-12-17T13:44:49.071156Z",
     "shell.execute_reply.started": "2022-12-17T13:44:49.050070Z"
    }
   },
   "outputs": [
    {
     "data": {
      "text/html": [
       "<div>\n",
       "<style scoped>\n",
       "    .dataframe tbody tr th:only-of-type {\n",
       "        vertical-align: middle;\n",
       "    }\n",
       "\n",
       "    .dataframe tbody tr th {\n",
       "        vertical-align: top;\n",
       "    }\n",
       "\n",
       "    .dataframe thead th {\n",
       "        text-align: right;\n",
       "    }\n",
       "</style>\n",
       "<table border=\"1\" class=\"dataframe\">\n",
       "  <thead>\n",
       "    <tr style=\"text-align: right;\">\n",
       "      <th></th>\n",
       "      <th>label</th>\n",
       "      <th>pixel0</th>\n",
       "      <th>pixel1</th>\n",
       "      <th>pixel2</th>\n",
       "      <th>pixel3</th>\n",
       "      <th>pixel4</th>\n",
       "      <th>pixel5</th>\n",
       "      <th>pixel6</th>\n",
       "      <th>pixel7</th>\n",
       "      <th>pixel8</th>\n",
       "      <th>...</th>\n",
       "      <th>pixel774</th>\n",
       "      <th>pixel775</th>\n",
       "      <th>pixel776</th>\n",
       "      <th>pixel777</th>\n",
       "      <th>pixel778</th>\n",
       "      <th>pixel779</th>\n",
       "      <th>pixel780</th>\n",
       "      <th>pixel781</th>\n",
       "      <th>pixel782</th>\n",
       "      <th>pixel783</th>\n",
       "    </tr>\n",
       "  </thead>\n",
       "  <tbody>\n",
       "    <tr>\n",
       "      <th>0</th>\n",
       "      <td>1</td>\n",
       "      <td>0</td>\n",
       "      <td>0</td>\n",
       "      <td>0</td>\n",
       "      <td>0</td>\n",
       "      <td>0</td>\n",
       "      <td>0</td>\n",
       "      <td>0</td>\n",
       "      <td>0</td>\n",
       "      <td>0</td>\n",
       "      <td>...</td>\n",
       "      <td>0</td>\n",
       "      <td>0</td>\n",
       "      <td>0</td>\n",
       "      <td>0</td>\n",
       "      <td>0</td>\n",
       "      <td>0</td>\n",
       "      <td>0</td>\n",
       "      <td>0</td>\n",
       "      <td>0</td>\n",
       "      <td>0</td>\n",
       "    </tr>\n",
       "    <tr>\n",
       "      <th>1</th>\n",
       "      <td>0</td>\n",
       "      <td>0</td>\n",
       "      <td>0</td>\n",
       "      <td>0</td>\n",
       "      <td>0</td>\n",
       "      <td>0</td>\n",
       "      <td>0</td>\n",
       "      <td>0</td>\n",
       "      <td>0</td>\n",
       "      <td>0</td>\n",
       "      <td>...</td>\n",
       "      <td>0</td>\n",
       "      <td>0</td>\n",
       "      <td>0</td>\n",
       "      <td>0</td>\n",
       "      <td>0</td>\n",
       "      <td>0</td>\n",
       "      <td>0</td>\n",
       "      <td>0</td>\n",
       "      <td>0</td>\n",
       "      <td>0</td>\n",
       "    </tr>\n",
       "    <tr>\n",
       "      <th>2</th>\n",
       "      <td>1</td>\n",
       "      <td>0</td>\n",
       "      <td>0</td>\n",
       "      <td>0</td>\n",
       "      <td>0</td>\n",
       "      <td>0</td>\n",
       "      <td>0</td>\n",
       "      <td>0</td>\n",
       "      <td>0</td>\n",
       "      <td>0</td>\n",
       "      <td>...</td>\n",
       "      <td>0</td>\n",
       "      <td>0</td>\n",
       "      <td>0</td>\n",
       "      <td>0</td>\n",
       "      <td>0</td>\n",
       "      <td>0</td>\n",
       "      <td>0</td>\n",
       "      <td>0</td>\n",
       "      <td>0</td>\n",
       "      <td>0</td>\n",
       "    </tr>\n",
       "    <tr>\n",
       "      <th>3</th>\n",
       "      <td>4</td>\n",
       "      <td>0</td>\n",
       "      <td>0</td>\n",
       "      <td>0</td>\n",
       "      <td>0</td>\n",
       "      <td>0</td>\n",
       "      <td>0</td>\n",
       "      <td>0</td>\n",
       "      <td>0</td>\n",
       "      <td>0</td>\n",
       "      <td>...</td>\n",
       "      <td>0</td>\n",
       "      <td>0</td>\n",
       "      <td>0</td>\n",
       "      <td>0</td>\n",
       "      <td>0</td>\n",
       "      <td>0</td>\n",
       "      <td>0</td>\n",
       "      <td>0</td>\n",
       "      <td>0</td>\n",
       "      <td>0</td>\n",
       "    </tr>\n",
       "    <tr>\n",
       "      <th>4</th>\n",
       "      <td>0</td>\n",
       "      <td>0</td>\n",
       "      <td>0</td>\n",
       "      <td>0</td>\n",
       "      <td>0</td>\n",
       "      <td>0</td>\n",
       "      <td>0</td>\n",
       "      <td>0</td>\n",
       "      <td>0</td>\n",
       "      <td>0</td>\n",
       "      <td>...</td>\n",
       "      <td>0</td>\n",
       "      <td>0</td>\n",
       "      <td>0</td>\n",
       "      <td>0</td>\n",
       "      <td>0</td>\n",
       "      <td>0</td>\n",
       "      <td>0</td>\n",
       "      <td>0</td>\n",
       "      <td>0</td>\n",
       "      <td>0</td>\n",
       "    </tr>\n",
       "  </tbody>\n",
       "</table>\n",
       "<p>5 rows × 785 columns</p>\n",
       "</div>"
      ],
      "text/plain": [
       "   label  pixel0  pixel1  pixel2  pixel3  pixel4  pixel5  pixel6  pixel7  \\\n",
       "0      1       0       0       0       0       0       0       0       0   \n",
       "1      0       0       0       0       0       0       0       0       0   \n",
       "2      1       0       0       0       0       0       0       0       0   \n",
       "3      4       0       0       0       0       0       0       0       0   \n",
       "4      0       0       0       0       0       0       0       0       0   \n",
       "\n",
       "   pixel8  ...  pixel774  pixel775  pixel776  pixel777  pixel778  pixel779  \\\n",
       "0       0  ...         0         0         0         0         0         0   \n",
       "1       0  ...         0         0         0         0         0         0   \n",
       "2       0  ...         0         0         0         0         0         0   \n",
       "3       0  ...         0         0         0         0         0         0   \n",
       "4       0  ...         0         0         0         0         0         0   \n",
       "\n",
       "   pixel780  pixel781  pixel782  pixel783  \n",
       "0         0         0         0         0  \n",
       "1         0         0         0         0  \n",
       "2         0         0         0         0  \n",
       "3         0         0         0         0  \n",
       "4         0         0         0         0  \n",
       "\n",
       "[5 rows x 785 columns]"
      ]
     },
     "execution_count": 4,
     "metadata": {},
     "output_type": "execute_result"
    }
   ],
   "source": [
    "train.head()"
   ]
  },
  {
   "cell_type": "code",
   "execution_count": 5,
   "metadata": {
    "execution": {
     "iopub.execute_input": "2022-12-17T13:44:49.076904Z",
     "iopub.status.busy": "2022-12-17T13:44:49.076539Z",
     "iopub.status.idle": "2022-12-17T13:44:49.083675Z",
     "shell.execute_reply": "2022-12-17T13:44:49.082519Z",
     "shell.execute_reply.started": "2022-12-17T13:44:49.076873Z"
    }
   },
   "outputs": [
    {
     "data": {
      "text/plain": [
       "(42000, 785)"
      ]
     },
     "execution_count": 5,
     "metadata": {},
     "output_type": "execute_result"
    }
   ],
   "source": [
    "train.shape"
   ]
  },
  {
   "cell_type": "markdown",
   "metadata": {},
   "source": [
    "### Training Data :\n",
    "#### 42000 Rows & 785 Columns\n",
    "\n",
    "#### 785 Columns = 1 Label + 28x28 pixel"
   ]
  },
  {
   "cell_type": "code",
   "execution_count": 6,
   "metadata": {
    "execution": {
     "iopub.execute_input": "2022-12-17T13:44:49.086116Z",
     "iopub.status.busy": "2022-12-17T13:44:49.085135Z",
     "iopub.status.idle": "2022-12-17T13:44:49.301730Z",
     "shell.execute_reply": "2022-12-17T13:44:49.300563Z",
     "shell.execute_reply.started": "2022-12-17T13:44:49.086066Z"
    }
   },
   "outputs": [
    {
     "data": {
      "image/png": "[encoded data removed]",
      "text/plain": [
       "<Figure size 640x480 with 1 Axes>"
      ]
     },
     "metadata": {},
     "output_type": "display_data"
    }
   ],
   "source": [
    "img = train.iloc[0, 1:]\n",
    "img = np.array(img).reshape(28,28)\n",
    "title = train['label'][0]\n",
    "plt.imshow(img)\n",
    "plt.title('Image of : ' + str(title))\n",
    "plt.show()"
   ]
  },
  {
   "cell_type": "code",
   "execution_count": 7,
   "metadata": {
    "execution": {
     "iopub.execute_input": "2022-12-17T13:44:49.303667Z",
     "iopub.status.busy": "2022-12-17T13:44:49.303258Z",
     "iopub.status.idle": "2022-12-17T13:44:49.502794Z",
     "shell.execute_reply": "2022-12-17T13:44:49.501496Z",
     "shell.execute_reply.started": "2022-12-17T13:44:49.303630Z"
    }
   },
   "outputs": [
    {
     "data": {
      "image/png": "[encoded data removed]",
      "text/plain": [
       "<Figure size 640x480 with 1 Axes>"
      ]
     },
     "metadata": {},
     "output_type": "display_data"
    }
   ],
   "source": [
    "img = train.iloc[91, 1:]\n",
    "img = np.array(img).reshape(28,28)\n",
    "title = train['label'][91]\n",
    "plt.imshow(img)\n",
    "plt.title('Image of : ' + str(title))\n",
    "plt.show()"
   ]
  },
  {
   "cell_type": "code",
   "execution_count": 8,
   "metadata": {
    "execution": {
     "iopub.execute_input": "2022-12-17T13:44:49.504633Z",
     "iopub.status.busy": "2022-12-17T13:44:49.504226Z",
     "iopub.status.idle": "2022-12-17T13:44:49.709876Z",
     "shell.execute_reply": "2022-12-17T13:44:49.708738Z",
     "shell.execute_reply.started": "2022-12-17T13:44:49.504595Z"
    }
   },
   "outputs": [
    {
     "data": {
      "image/png": "[encoded data removed]",
      "text/plain": [
       "<Figure size 640x480 with 1 Axes>"
      ]
     },
     "metadata": {},
     "output_type": "display_data"
    }
   ],
   "source": [
    "# Grey channel distribution\n",
    "\n",
    "plt.hist(np.array(train.iloc[91, 1:]))\n",
    "plt.show()"
   ]
  },
  {
   "cell_type": "code",
   "execution_count": 9,
   "metadata": {
    "execution": {
     "iopub.execute_input": "2022-12-17T13:44:49.711919Z",
     "iopub.status.busy": "2022-12-17T13:44:49.711603Z",
     "iopub.status.idle": "2022-12-17T13:44:49.731087Z",
     "shell.execute_reply": "2022-12-17T13:44:49.729690Z",
     "shell.execute_reply.started": "2022-12-17T13:44:49.711891Z"
    }
   },
   "outputs": [
    {
     "data": {
      "text/html": [
       "<div>\n",
       "<style scoped>\n",
       "    .dataframe tbody tr th:only-of-type {\n",
       "        vertical-align: middle;\n",
       "    }\n",
       "\n",
       "    .dataframe tbody tr th {\n",
       "        vertical-align: top;\n",
       "    }\n",
       "\n",
       "    .dataframe thead th {\n",
       "        text-align: right;\n",
       "    }\n",
       "</style>\n",
       "<table border=\"1\" class=\"dataframe\">\n",
       "  <thead>\n",
       "    <tr style=\"text-align: right;\">\n",
       "      <th></th>\n",
       "      <th>pixel0</th>\n",
       "      <th>pixel1</th>\n",
       "      <th>pixel2</th>\n",
       "      <th>pixel3</th>\n",
       "      <th>pixel4</th>\n",
       "      <th>pixel5</th>\n",
       "      <th>pixel6</th>\n",
       "      <th>pixel7</th>\n",
       "      <th>pixel8</th>\n",
       "      <th>pixel9</th>\n",
       "      <th>...</th>\n",
       "      <th>pixel774</th>\n",
       "      <th>pixel775</th>\n",
       "      <th>pixel776</th>\n",
       "      <th>pixel777</th>\n",
       "      <th>pixel778</th>\n",
       "      <th>pixel779</th>\n",
       "      <th>pixel780</th>\n",
       "      <th>pixel781</th>\n",
       "      <th>pixel782</th>\n",
       "      <th>pixel783</th>\n",
       "    </tr>\n",
       "  </thead>\n",
       "  <tbody>\n",
       "    <tr>\n",
       "      <th>0</th>\n",
       "      <td>0</td>\n",
       "      <td>0</td>\n",
       "      <td>0</td>\n",
       "      <td>0</td>\n",
       "      <td>0</td>\n",
       "      <td>0</td>\n",
       "      <td>0</td>\n",
       "      <td>0</td>\n",
       "      <td>0</td>\n",
       "      <td>0</td>\n",
       "      <td>...</td>\n",
       "      <td>0</td>\n",
       "      <td>0</td>\n",
       "      <td>0</td>\n",
       "      <td>0</td>\n",
       "      <td>0</td>\n",
       "      <td>0</td>\n",
       "      <td>0</td>\n",
       "      <td>0</td>\n",
       "      <td>0</td>\n",
       "      <td>0</td>\n",
       "    </tr>\n",
       "    <tr>\n",
       "      <th>1</th>\n",
       "      <td>0</td>\n",
       "      <td>0</td>\n",
       "      <td>0</td>\n",
       "      <td>0</td>\n",
       "      <td>0</td>\n",
       "      <td>0</td>\n",
       "      <td>0</td>\n",
       "      <td>0</td>\n",
       "      <td>0</td>\n",
       "      <td>0</td>\n",
       "      <td>...</td>\n",
       "      <td>0</td>\n",
       "      <td>0</td>\n",
       "      <td>0</td>\n",
       "      <td>0</td>\n",
       "      <td>0</td>\n",
       "      <td>0</td>\n",
       "      <td>0</td>\n",
       "      <td>0</td>\n",
       "      <td>0</td>\n",
       "      <td>0</td>\n",
       "    </tr>\n",
       "    <tr>\n",
       "      <th>2</th>\n",
       "      <td>0</td>\n",
       "      <td>0</td>\n",
       "      <td>0</td>\n",
       "      <td>0</td>\n",
       "      <td>0</td>\n",
       "      <td>0</td>\n",
       "      <td>0</td>\n",
       "      <td>0</td>\n",
       "      <td>0</td>\n",
       "      <td>0</td>\n",
       "      <td>...</td>\n",
       "      <td>0</td>\n",
       "      <td>0</td>\n",
       "      <td>0</td>\n",
       "      <td>0</td>\n",
       "      <td>0</td>\n",
       "      <td>0</td>\n",
       "      <td>0</td>\n",
       "      <td>0</td>\n",
       "      <td>0</td>\n",
       "      <td>0</td>\n",
       "    </tr>\n",
       "    <tr>\n",
       "      <th>3</th>\n",
       "      <td>0</td>\n",
       "      <td>0</td>\n",
       "      <td>0</td>\n",
       "      <td>0</td>\n",
       "      <td>0</td>\n",
       "      <td>0</td>\n",
       "      <td>0</td>\n",
       "      <td>0</td>\n",
       "      <td>0</td>\n",
       "      <td>0</td>\n",
       "      <td>...</td>\n",
       "      <td>0</td>\n",
       "      <td>0</td>\n",
       "      <td>0</td>\n",
       "      <td>0</td>\n",
       "      <td>0</td>\n",
       "      <td>0</td>\n",
       "      <td>0</td>\n",
       "      <td>0</td>\n",
       "      <td>0</td>\n",
       "      <td>0</td>\n",
       "    </tr>\n",
       "    <tr>\n",
       "      <th>4</th>\n",
       "      <td>0</td>\n",
       "      <td>0</td>\n",
       "      <td>0</td>\n",
       "      <td>0</td>\n",
       "      <td>0</td>\n",
       "      <td>0</td>\n",
       "      <td>0</td>\n",
       "      <td>0</td>\n",
       "      <td>0</td>\n",
       "      <td>0</td>\n",
       "      <td>...</td>\n",
       "      <td>0</td>\n",
       "      <td>0</td>\n",
       "      <td>0</td>\n",
       "      <td>0</td>\n",
       "      <td>0</td>\n",
       "      <td>0</td>\n",
       "      <td>0</td>\n",
       "      <td>0</td>\n",
       "      <td>0</td>\n",
       "      <td>0</td>\n",
       "    </tr>\n",
       "  </tbody>\n",
       "</table>\n",
       "<p>5 rows × 784 columns</p>\n",
       "</div>"
      ],
      "text/plain": [
       "   pixel0  pixel1  pixel2  pixel3  pixel4  pixel5  pixel6  pixel7  pixel8  \\\n",
       "0       0       0       0       0       0       0       0       0       0   \n",
       "1       0       0       0       0       0       0       0       0       0   \n",
       "2       0       0       0       0       0       0       0       0       0   \n",
       "3       0       0       0       0       0       0       0       0       0   \n",
       "4       0       0       0       0       0       0       0       0       0   \n",
       "\n",
       "   pixel9  ...  pixel774  pixel775  pixel776  pixel777  pixel778  pixel779  \\\n",
       "0       0  ...         0         0         0         0         0         0   \n",
       "1       0  ...         0         0         0         0         0         0   \n",
       "2       0  ...         0         0         0         0         0         0   \n",
       "3       0  ...         0         0         0         0         0         0   \n",
       "4       0  ...         0         0         0         0         0         0   \n",
       "\n",
       "   pixel780  pixel781  pixel782  pixel783  \n",
       "0         0         0         0         0  \n",
       "1         0         0         0         0  \n",
       "2         0         0         0         0  \n",
       "3         0         0         0         0  \n",
       "4         0         0         0         0  \n",
       "\n",
       "[5 rows x 784 columns]"
      ]
     },
     "execution_count": 9,
     "metadata": {},
     "output_type": "execute_result"
    }
   ],
   "source": [
    "test.head()"
   ]
  },
  {
   "cell_type": "code",
   "execution_count": 10,
   "metadata": {
    "execution": {
     "iopub.execute_input": "2022-12-17T13:44:49.733244Z",
     "iopub.status.busy": "2022-12-17T13:44:49.732613Z",
     "iopub.status.idle": "2022-12-17T13:44:49.741226Z",
     "shell.execute_reply": "2022-12-17T13:44:49.740276Z",
     "shell.execute_reply.started": "2022-12-17T13:44:49.733209Z"
    }
   },
   "outputs": [
    {
     "data": {
      "text/plain": [
       "(28000, 784)"
      ]
     },
     "execution_count": 10,
     "metadata": {},
     "output_type": "execute_result"
    }
   ],
   "source": [
    "test.shape"
   ]
  },
  {
   "cell_type": "code",
   "execution_count": 11,
   "metadata": {
    "execution": {
     "iopub.execute_input": "2022-12-17T13:44:49.743065Z",
     "iopub.status.busy": "2022-12-17T13:44:49.742743Z",
     "iopub.status.idle": "2022-12-17T13:44:49.801199Z",
     "shell.execute_reply": "2022-12-17T13:44:49.800209Z",
     "shell.execute_reply.started": "2022-12-17T13:44:49.743036Z"
    }
   },
   "outputs": [
    {
     "data": {
      "text/plain": [
       "label       0\n",
       "pixel0      0\n",
       "pixel1      0\n",
       "pixel2      0\n",
       "pixel3      0\n",
       "           ..\n",
       "pixel779    0\n",
       "pixel780    0\n",
       "pixel781    0\n",
       "pixel782    0\n",
       "pixel783    0\n",
       "Length: 785, dtype: int64"
      ]
     },
     "execution_count": 11,
     "metadata": {},
     "output_type": "execute_result"
    }
   ],
   "source": [
    "missing_values_count = train.isnull().sum()\n",
    "missing_values_count"
   ]
  },
  {
   "cell_type": "markdown",
   "metadata": {},
   "source": [
    "# <font color='Yellow'>Preparing Training & Testing Data</font>"
   ]
  },
  {
   "cell_type": "code",
   "execution_count": 12,
   "metadata": {
    "execution": {
     "iopub.execute_input": "2022-12-17T13:44:49.803212Z",
     "iopub.status.busy": "2022-12-17T13:44:49.802720Z",
     "iopub.status.idle": "2022-12-17T13:44:49.971017Z",
     "shell.execute_reply": "2022-12-17T13:44:49.969996Z",
     "shell.execute_reply.started": "2022-12-17T13:44:49.803177Z"
    }
   },
   "outputs": [],
   "source": [
    "x = np.array(train)\n",
    "y = np.array(test)"
   ]
  },
  {
   "cell_type": "code",
   "execution_count": 13,
   "metadata": {
    "execution": {
     "iopub.execute_input": "2022-12-17T13:44:49.972703Z",
     "iopub.status.busy": "2022-12-17T13:44:49.972335Z",
     "iopub.status.idle": "2022-12-17T13:44:49.978171Z",
     "shell.execute_reply": "2022-12-17T13:44:49.976841Z",
     "shell.execute_reply.started": "2022-12-17T13:44:49.972671Z"
    }
   },
   "outputs": [],
   "source": [
    "x_train = x[:, 1:]\n",
    "y_train = x[:, 0]\n",
    "x_test = y"
   ]
  },
  {
   "cell_type": "code",
   "execution_count": 14,
   "metadata": {
    "execution": {
     "iopub.execute_input": "2022-12-17T13:44:49.985057Z",
     "iopub.status.busy": "2022-12-17T13:44:49.984666Z",
     "iopub.status.idle": "2022-12-17T13:44:49.990679Z",
     "shell.execute_reply": "2022-12-17T13:44:49.989190Z",
     "shell.execute_reply.started": "2022-12-17T13:44:49.985024Z"
    }
   },
   "outputs": [],
   "source": [
    "x_train = x_train.reshape(-1,28,28,1)                            # -1 in reshape means, it asks Python to decide the sizw/shape"
   ]
  },
  {
   "cell_type": "markdown",
   "metadata": {},
   "source": [
    "# <font color='Cyan'>Generating Image Data</font>"
   ]
  },
  {
   "cell_type": "code",
   "execution_count": 15,
   "metadata": {
    "execution": {
     "iopub.execute_input": "2022-12-17T13:44:49.992848Z",
     "iopub.status.busy": "2022-12-17T13:44:49.992311Z",
     "iopub.status.idle": "2022-12-17T13:44:50.003117Z",
     "shell.execute_reply": "2022-12-17T13:44:50.001929Z",
     "shell.execute_reply.started": "2022-12-17T13:44:49.992804Z"
    }
   },
   "outputs": [],
   "source": [
    "datagen = ImageDataGenerator(\n",
    "                rotation_range=15,\n",
    "                zoom_range=0.1,\n",
    "                shear_range=0.1,\n",
    "                height_shift_range=0.1\n",
    "            )"
   ]
  },
  {
   "cell_type": "code",
   "execution_count": 16,
   "metadata": {
    "execution": {
     "iopub.execute_input": "2022-12-17T13:44:50.005386Z",
     "iopub.status.busy": "2022-12-17T13:44:50.004417Z",
     "iopub.status.idle": "2022-12-17T13:44:50.130946Z",
     "shell.execute_reply": "2022-12-17T13:44:50.129728Z",
     "shell.execute_reply.started": "2022-12-17T13:44:50.005348Z"
    }
   },
   "outputs": [],
   "source": [
    "datagen.fit(x_train)"
   ]
  },
  {
   "cell_type": "code",
   "execution_count": 17,
   "metadata": {
    "execution": {
     "iopub.execute_input": "2022-12-17T13:44:50.133261Z",
     "iopub.status.busy": "2022-12-17T13:44:50.132783Z",
     "iopub.status.idle": "2022-12-17T13:44:50.139141Z",
     "shell.execute_reply": "2022-12-17T13:44:50.137824Z",
     "shell.execute_reply.started": "2022-12-17T13:44:50.133213Z"
    }
   },
   "outputs": [],
   "source": [
    "x_train = x_train.reshape(-1,784)"
   ]
  },
  {
   "cell_type": "markdown",
   "metadata": {},
   "source": [
    "# <font color='Cyan'>Training Machine Learning Model</font>"
   ]
  },
  {
   "cell_type": "code",
   "execution_count": 18,
   "metadata": {
    "execution": {
     "iopub.execute_input": "2022-12-17T13:44:50.141015Z",
     "iopub.status.busy": "2022-12-17T13:44:50.140498Z",
     "iopub.status.idle": "2022-12-17T13:44:50.152721Z",
     "shell.execute_reply": "2022-12-17T13:44:50.151531Z",
     "shell.execute_reply.started": "2022-12-17T13:44:50.140970Z"
    }
   },
   "outputs": [],
   "source": [
    "knn = KNeighborsClassifier(5)"
   ]
  },
  {
   "cell_type": "code",
   "execution_count": 19,
   "metadata": {
    "execution": {
     "iopub.execute_input": "2022-12-17T13:44:50.154469Z",
     "iopub.status.busy": "2022-12-17T13:44:50.154117Z",
     "iopub.status.idle": "2022-12-17T13:44:50.173000Z",
     "shell.execute_reply": "2022-12-17T13:44:50.171842Z",
     "shell.execute_reply.started": "2022-12-17T13:44:50.154425Z"
    }
   },
   "outputs": [
    {
     "data": {
      "text/plain": [
       "KNeighborsClassifier()"
      ]
     },
     "execution_count": 19,
     "metadata": {},
     "output_type": "execute_result"
    }
   ],
   "source": [
    "knn.fit(x_train, y_train)"
   ]
  },
  {
   "cell_type": "markdown",
   "metadata": {},
   "source": [
    "# <font color='Cyan'>Predicting Image</font>"
   ]
  },
  {
   "cell_type": "code",
   "execution_count": 20,
   "metadata": {
    "execution": {
     "iopub.execute_input": "2022-12-17T13:44:50.174786Z",
     "iopub.status.busy": "2022-12-17T13:44:50.174409Z",
     "iopub.status.idle": "2022-12-17T13:44:50.339657Z",
     "shell.execute_reply": "2022-12-17T13:44:50.335391Z",
     "shell.execute_reply.started": "2022-12-17T13:44:50.174754Z"
    }
   },
   "outputs": [
    {
     "name": "stdout",
     "output_type": "stream",
     "text": [
      "0\n"
     ]
    }
   ],
   "source": [
    "prediction = knn.predict(y[100].reshape(1,-1))                                # predicting 100th row\n",
    "print(int(prediction))"
   ]
  },
  {
   "cell_type": "code",
   "execution_count": 21,
   "metadata": {
    "execution": {
     "iopub.execute_input": "2022-12-17T13:44:50.342737Z",
     "iopub.status.busy": "2022-12-17T13:44:50.341816Z",
     "iopub.status.idle": "2022-12-17T13:44:50.542243Z",
     "shell.execute_reply": "2022-12-17T13:44:50.541033Z",
     "shell.execute_reply.started": "2022-12-17T13:44:50.342689Z"
    }
   },
   "outputs": [
    {
     "data": {
      "image/png": "[encoded data removed]",
      "text/plain": [
       "<Figure size 640x480 with 1 Axes>"
      ]
     },
     "metadata": {},
     "output_type": "display_data"
    }
   ],
   "source": [
    "plt.imshow(np.array(y[100,:]).reshape(28,28))                                 # plotting 100th row\n",
    "plt.show()"
   ]
  },
  {
   "cell_type": "code",
   "execution_count": 22,
   "metadata": {
    "execution": {
     "iopub.execute_input": "2022-12-17T13:44:50.544190Z",
     "iopub.status.busy": "2022-12-17T13:44:50.543748Z",
     "iopub.status.idle": "2022-12-17T13:44:50.705039Z",
     "shell.execute_reply": "2022-12-17T13:44:50.703721Z",
     "shell.execute_reply.started": "2022-12-17T13:44:50.544149Z"
    }
   },
   "outputs": [
    {
     "name": "stdout",
     "output_type": "stream",
     "text": [
      "5\n"
     ]
    }
   ],
   "source": [
    "prediction = knn.predict(np.reshape(x_test[27365,], (1,-1)))                 # predicting 27365th row\n",
    "print(int(prediction))"
   ]
  },
  {
   "cell_type": "code",
   "execution_count": 23,
   "metadata": {
    "execution": {
     "iopub.execute_input": "2022-12-17T13:44:50.708011Z",
     "iopub.status.busy": "2022-12-17T13:44:50.706664Z",
     "iopub.status.idle": "2022-12-17T13:44:50.914360Z",
     "shell.execute_reply": "2022-12-17T13:44:50.913294Z",
     "shell.execute_reply.started": "2022-12-17T13:44:50.707961Z"
    }
   },
   "outputs": [
    {
     "data": {
      "image/png": "[encoded data removed]",
      "text/plain": [
       "<Figure size 640x480 with 1 Axes>"
      ]
     },
     "metadata": {},
     "output_type": "display_data"
    }
   ],
   "source": [
    "plt.imshow(np.array(np.reshape(x_test[27365,], (28,28))))                    # plotting 27365th row\n",
    "plt.show()"
   ]
  },
  {
   "cell_type": "code",
   "execution_count": 24,
   "metadata": {
    "execution": {
     "iopub.execute_input": "2022-12-17T13:44:50.916386Z",
     "iopub.status.busy": "2022-12-17T13:44:50.915935Z",
     "iopub.status.idle": "2022-12-17T13:44:51.080504Z",
     "shell.execute_reply": "2022-12-17T13:44:51.078804Z",
     "shell.execute_reply.started": "2022-12-17T13:44:50.916338Z"
    }
   },
   "outputs": [
    {
     "name": "stdout",
     "output_type": "stream",
     "text": [
      "7\n"
     ]
    }
   ],
   "source": [
    "prediction = knn.predict(x_test[9999,:].reshape(1,-1))                         # predicting 9999th row\n",
    "print(int(prediction))"
   ]
  },
  {
   "cell_type": "code",
   "execution_count": 25,
   "metadata": {
    "execution": {
     "iopub.execute_input": "2022-12-17T13:44:51.086498Z",
     "iopub.status.busy": "2022-12-17T13:44:51.082290Z",
     "iopub.status.idle": "2022-12-17T13:44:51.312409Z",
     "shell.execute_reply": "2022-12-17T13:44:51.311534Z",
     "shell.execute_reply.started": "2022-12-17T13:44:51.086415Z"
    }
   },
   "outputs": [
    {
     "data": {
      "image/png": "[encoded data removed]",
      "text/plain": [
       "<Figure size 640x480 with 1 Axes>"
      ]
     },
     "metadata": {},
     "output_type": "display_data"
    }
   ],
   "source": [
    "plt.imshow(np.array(np.reshape(y[9999,], (28,28))))                            # plotting 9999th row\n",
    "plt.show()"
   ]
  },
  {
   "cell_type": "code",
   "execution_count": 26,
   "metadata": {
    "execution": {
     "iopub.execute_input": "2022-12-17T13:44:51.315285Z",
     "iopub.status.busy": "2022-12-17T13:44:51.313888Z",
     "iopub.status.idle": "2022-12-17T15:21:51.245096Z",
     "shell.execute_reply": "2022-12-17T15:21:51.236212Z",
     "shell.execute_reply.started": "2022-12-17T13:44:51.315235Z"
    }
   },
   "outputs": [
    {
     "data": {
      "application/vnd.jupyter.widget-view+json": {
       "model_id": "96b3c884fa20474fb31cf510cb06f390",
       "version_major": 2,
       "version_minor": 0
      },
      "text/plain": [
       "Progression :   0%|          | 0/28000 [00:00<?, ?it/s]"
      ]
     },
     "metadata": {},
     "output_type": "display_data"
    }
   ],
   "source": [
    "ImageId = []\n",
    "Label = []\n",
    "\n",
    "for i in tqdm_notebook(range(y.shape[0]), desc = 'Progression : '):\n",
    "    \n",
    "    ImageId.append(i+1)\n",
    "    \n",
    "    l = knn.predict(y[i,:].reshape(1,-1))\n",
    "    l = int(l)\n",
    "    \n",
    "    Label.append(l)"
   ]
  },
  {
   "cell_type": "code",
   "execution_count": 27,
   "metadata": {
    "execution": {
     "iopub.execute_input": "2022-12-17T15:21:51.247948Z",
     "iopub.status.busy": "2022-12-17T15:21:51.247194Z",
     "iopub.status.idle": "2022-12-17T15:21:51.257808Z",
     "shell.execute_reply": "2022-12-17T15:21:51.255705Z",
     "shell.execute_reply.started": "2022-12-17T15:21:51.247892Z"
    }
   },
   "outputs": [],
   "source": [
    "dic = {'ImageId' : ImageId, 'Label' : Label}"
   ]
  },
  {
   "cell_type": "code",
   "execution_count": 28,
   "metadata": {
    "execution": {
     "iopub.execute_input": "2022-12-17T15:21:51.262322Z",
     "iopub.status.busy": "2022-12-17T15:21:51.260971Z",
     "iopub.status.idle": "2022-12-17T15:21:51.335088Z",
     "shell.execute_reply": "2022-12-17T15:21:51.333159Z",
     "shell.execute_reply.started": "2022-12-17T15:21:51.262196Z"
    }
   },
   "outputs": [
    {
     "data": {
      "text/html": [
       "<div>\n",
       "<style scoped>\n",
       "    .dataframe tbody tr th:only-of-type {\n",
       "        vertical-align: middle;\n",
       "    }\n",
       "\n",
       "    .dataframe tbody tr th {\n",
       "        vertical-align: top;\n",
       "    }\n",
       "\n",
       "    .dataframe thead th {\n",
       "        text-align: right;\n",
       "    }\n",
       "</style>\n",
       "<table border=\"1\" class=\"dataframe\">\n",
       "  <thead>\n",
       "    <tr style=\"text-align: right;\">\n",
       "      <th></th>\n",
       "      <th>ImageId</th>\n",
       "      <th>Label</th>\n",
       "    </tr>\n",
       "  </thead>\n",
       "  <tbody>\n",
       "    <tr>\n",
       "      <th>0</th>\n",
       "      <td>1</td>\n",
       "      <td>2</td>\n",
       "    </tr>\n",
       "    <tr>\n",
       "      <th>1</th>\n",
       "      <td>2</td>\n",
       "      <td>0</td>\n",
       "    </tr>\n",
       "    <tr>\n",
       "      <th>2</th>\n",
       "      <td>3</td>\n",
       "      <td>9</td>\n",
       "    </tr>\n",
       "    <tr>\n",
       "      <th>3</th>\n",
       "      <td>4</td>\n",
       "      <td>9</td>\n",
       "    </tr>\n",
       "    <tr>\n",
       "      <th>4</th>\n",
       "      <td>5</td>\n",
       "      <td>3</td>\n",
       "    </tr>\n",
       "  </tbody>\n",
       "</table>\n",
       "</div>"
      ],
      "text/plain": [
       "   ImageId  Label\n",
       "0        1      2\n",
       "1        2      0\n",
       "2        3      9\n",
       "3        4      9\n",
       "4        5      3"
      ]
     },
     "execution_count": 28,
     "metadata": {},
     "output_type": "execute_result"
    }
   ],
   "source": [
    "df = pd.DataFrame(dic)\n",
    "df.head()"
   ]
  },
  {
   "cell_type": "code",
   "execution_count": 30,
   "metadata": {
    "execution": {
     "iopub.execute_input": "2022-12-17T15:25:43.110149Z",
     "iopub.status.busy": "2022-12-17T15:25:43.109710Z",
     "iopub.status.idle": "2022-12-17T15:25:43.159828Z",
     "shell.execute_reply": "2022-12-17T15:25:43.158378Z",
     "shell.execute_reply.started": "2022-12-17T15:25:43.110112Z"
    }
   },
   "outputs": [],
   "source": [
    "df.to_csv('Digits.csv', index = False)"
   ]
  },
  {
   "cell_type": "code",
   "execution_count": null,
   "metadata": {},
   "outputs": [],
   "source": []
  }
 ],
 "metadata": {
  "kernelspec": {
   "display_name": "Python 3 (ipykernel)",
   "language": "python",
   "name": "python3"
  },
  "language_info": {
   "codemirror_mode": {
    "name": "ipython",
    "version": 3
   },
   "file_extension": ".py",
   "mimetype": "text/x-python",
   "name": "python",
   "nbconvert_exporter": "python",
   "pygments_lexer": "ipython3",
   "version": "3.9.13"
  }
 },
 "nbformat": 4,
 "nbformat_minor": 4
}
